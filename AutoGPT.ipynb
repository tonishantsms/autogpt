{
  "nbformat": 4,
  "nbformat_minor": 0,
  "metadata": {
    "colab": {
      "provenance": [],
      "authorship_tag": "ABX9TyP5T3GTBUZnBKzUiMiiqK1C",
      "include_colab_link": true
    },
    "kernelspec": {
      "name": "python3",
      "display_name": "Python 3"
    },
    "language_info": {
      "name": "python"
    }
  },
  "cells": [
    {
      "cell_type": "markdown",
      "metadata": {
        "id": "view-in-github",
        "colab_type": "text"
      },
      "source": [
        "<a href=\"https://colab.research.google.com/github/tonishantsms/autogpt/blob/main/AutoGPT.ipynb\" target=\"_parent\"><img src=\"https://colab.research.google.com/assets/colab-badge.svg\" alt=\"Open In Colab\"/></a>"
      ]
    },
    {
      "cell_type": "code",
      "execution_count": 5,
      "metadata": {
        "id": "j9m4iU0ABeoE",
        "colab": {
          "base_uri": "https://localhost:8080/"
        },
        "outputId": "0e471e6e-87d4-40f2-ffa4-0f10c8afdfad"
      },
      "outputs": [
        {
          "output_type": "stream",
          "name": "stdout",
          "text": [
            "Cloning into 'Auto-GPT'...\n",
            "remote: Enumerating objects: 13269, done.\u001b[K\n",
            "remote: Counting objects: 100% (406/406), done.\u001b[K\n",
            "remote: Compressing objects: 100% (225/225), done.\u001b[K\n",
            "remote: Total 13269 (delta 257), reused 270 (delta 175), pack-reused 12863\u001b[K\n",
            "Receiving objects: 100% (13269/13269), 7.54 MiB | 19.06 MiB/s, done.\n",
            "Resolving deltas: 100% (8928/8928), done.\n"
          ]
        }
      ],
      "source": [
        "!git clone -b stable https://github.com/Significant-Gravitas/Auto-GPT.git"
      ]
    },
    {
      "cell_type": "code",
      "source": [],
      "metadata": {
        "id": "3n1B8vvFB8sb"
      },
      "execution_count": 3,
      "outputs": []
    },
    {
      "cell_type": "code",
      "source": [],
      "metadata": {
        "id": "Xig-4yzHCNRp"
      },
      "execution_count": null,
      "outputs": []
    },
    {
      "cell_type": "markdown",
      "source": [
        "# New Section"
      ],
      "metadata": {
        "id": "iWDtsCHKCS2L"
      }
    }
  ]
}